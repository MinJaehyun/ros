{
 "cells": [
  {
   "cell_type": "code",
   "execution_count": null,
   "id": "1f26098e-be22-4fa3-b89c-e4836671f134",
   "metadata": {},
   "outputs": [],
   "source": []
  }
 ],
 "metadata": {
  "kernelspec": {
   "display_name": "",
   "name": ""
  },
  "language_info": {
   "name": ""
  }
 },
 "nbformat": 4,
 "nbformat_minor": 5
}
