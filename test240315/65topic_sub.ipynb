{
 "cells": [
  {
   "cell_type": "code",
   "execution_count": 1,
   "id": "87e0c188-79a6-46ee-aa29-277fc9144b33",
   "metadata": {},
   "outputs": [],
   "source": [
    "import rclpy as rp"
   ]
  },
  {
   "cell_type": "code",
   "execution_count": 2,
   "id": "be4eb079-946d-48c0-9b8b-cd9ce11c4cff",
   "metadata": {},
   "outputs": [],
   "source": [
    "from turtlesim.msg import Pose"
   ]
  },
  {
   "cell_type": "code",
   "execution_count": 3,
   "id": "bd584617-c369-45de-8bb7-dab99966de8f",
   "metadata": {},
   "outputs": [],
   "source": [
    "rp.init()"
   ]
  },
  {
   "cell_type": "code",
   "execution_count": 4,
   "id": "63ff45d6-52fc-43c1-999e-1ffc86f66aa6",
   "metadata": {},
   "outputs": [],
   "source": [
    "test_node = rp.create_node('pub_node')"
   ]
  },
  {
   "cell_type": "code",
   "execution_count": 5,
   "id": "677cec7f-32b4-4fd7-a1cd-8d57acb770b5",
   "metadata": {},
   "outputs": [],
   "source": [
    "def callback(data):\n",
    "    print('----->>>')\n",
    "    print('data is ', data)"
   ]
  },
  {
   "cell_type": "code",
   "execution_count": 6,
   "id": "dc8ed83d-3001-4177-b62d-61456c562d20",
   "metadata": {},
   "outputs": [
    {
     "data": {
      "text/plain": [
       "<rclpy.subscription.Subscription at 0x7f35b4810a00>"
      ]
     },
     "execution_count": 6,
     "metadata": {},
     "output_type": "execute_result"
    }
   ],
   "source": [
    "test_node.create_subscription(Pose, '/turtle1/pose', callback, 3)"
   ]
  },
  {
   "cell_type": "code",
   "execution_count": 7,
   "id": "4135e4ae-18e0-4f1b-9c23-eb07c538e338",
   "metadata": {},
   "outputs": [
    {
     "data": {
      "text/plain": [
       "<rclpy.node.Node at 0x7f35b47a5f90>"
      ]
     },
     "execution_count": 7,
     "metadata": {},
     "output_type": "execute_result"
    }
   ],
   "source": [
    "test_node"
   ]
  },
  {
   "cell_type": "code",
   "execution_count": null,
   "id": "94fe9852-80ea-4eda-a0aa-64ab86226abb",
   "metadata": {},
   "outputs": [],
   "source": [
    "### 새 노드가 구독하려면?\n",
    "1. msg_type,\n",
    "    topic: str,\n",
    "    callback: Callable[[~MsgType], NoneType],\n",
    "    qos_profile:,..."
   ]
  },
  {
   "cell_type": "code",
   "execution_count": 8,
   "id": "af7d37dc-306f-4692-93e9-4a50763f47dd",
   "metadata": {},
   "outputs": [
    {
     "name": "stdout",
     "output_type": "stream",
     "text": [
      "----->>>\n",
      "data is  turtlesim.msg.Pose(x=5.544444561004639, y=5.544444561004639, theta=0.0, linear_velocity=0.0, angular_velocity=0.0)\n"
     ]
    }
   ],
   "source": [
    "rp.spin_once(test_node)"
   ]
  },
  {
   "cell_type": "code",
   "execution_count": null,
   "id": "65620a65-e24e-46f5-b76f-6bf37ed1862b",
   "metadata": {},
   "outputs": [],
   "source": []
  }
 ],
 "metadata": {
  "kernelspec": {
   "display_name": "Python 3 (ipykernel)",
   "language": "python",
   "name": "python3"
  },
  "language_info": {
   "codemirror_mode": {
    "name": "ipython",
    "version": 3
   },
   "file_extension": ".py",
   "mimetype": "text/x-python",
   "name": "python",
   "nbconvert_exporter": "python",
   "pygments_lexer": "ipython3",
   "version": "3.10.12"
  }
 },
 "nbformat": 4,
 "nbformat_minor": 5
}
