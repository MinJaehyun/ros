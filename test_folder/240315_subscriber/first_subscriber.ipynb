{
 "cells": [
  {
   "cell_type": "markdown",
   "id": "e3bd6f6c-e232-4c57-8b18-fe6997c0f5f6",
   "metadata": {},
   "source": [
    "### 240402\n",
    "### pose 토픽을 turtlesim에서 발행하고 sub_node Node에서 구독해보자"
   ]
  },
  {
   "cell_type": "code",
   "execution_count": 1,
   "id": "778ee7c4-1b29-445b-8bdb-3e5a25847b77",
   "metadata": {},
   "outputs": [],
   "source": [
    "import rclpy as rp\n",
    "from turtlesim.msg import Pose"
   ]
  },
  {
   "cell_type": "code",
   "execution_count": 2,
   "id": "2a8c3e5d-c96a-40bd-acd3-3f59ff3d54fc",
   "metadata": {},
   "outputs": [],
   "source": [
    "rp.init()"
   ]
  },
  {
   "cell_type": "code",
   "execution_count": 3,
   "id": "0b0b45d4-88b3-493b-b84c-8a0b9f10bcfd",
   "metadata": {},
   "outputs": [],
   "source": [
    "test_node = rp.create_node('sub_node')"
   ]
  },
  {
   "cell_type": "code",
   "execution_count": 4,
   "id": "405e8b53-e657-4b71-aa8c-6be648bf5b2f",
   "metadata": {},
   "outputs": [
    {
     "data": {
      "text/plain": [
       "<rclpy.node.Node at 0x7efc146990c0>"
      ]
     },
     "execution_count": 4,
     "metadata": {},
     "output_type": "execute_result"
    }
   ],
   "source": [
    "test_node"
   ]
  },
  {
   "cell_type": "code",
   "execution_count": 5,
   "id": "f160a416-f4fa-4ffe-a2fd-0125a624db90",
   "metadata": {},
   "outputs": [],
   "source": [
    "def callback(data):\n",
    "    print('callback data is ', data)"
   ]
  },
  {
   "cell_type": "code",
   "execution_count": 6,
   "id": "c15f9150-849a-4eb2-b813-f8f0639d1c41",
   "metadata": {},
   "outputs": [
    {
     "data": {
      "text/plain": [
       "<rclpy.subscription.Subscription at 0x7efc14724fa0>"
      ]
     },
     "execution_count": 6,
     "metadata": {},
     "output_type": "execute_result"
    }
   ],
   "source": [
    "test_node.create_subscription(Pose, '/turtle1/pose', callback, 10)"
   ]
  },
  {
   "cell_type": "code",
   "execution_count": 7,
   "id": "799555dc-08c3-48d6-9729-8511638c5c3e",
   "metadata": {},
   "outputs": [
    {
     "data": {
      "text/plain": [
       "<rclpy.node.Node at 0x7efc146990c0>"
      ]
     },
     "execution_count": 7,
     "metadata": {},
     "output_type": "execute_result"
    }
   ],
   "source": [
    "test_node"
   ]
  },
  {
   "cell_type": "markdown",
   "id": "058cbd57-1edb-4527-a10c-6ce533342314",
   "metadata": {},
   "source": [
    "### 아래 명령어 실행하려면 발행하고 있어야 한다.. turtlesim 실행해보자"
   ]
  },
  {
   "cell_type": "code",
   "execution_count": 8,
   "id": "0a8f39de-3e85-486d-9958-5024074e407e",
   "metadata": {},
   "outputs": [
    {
     "name": "stdout",
     "output_type": "stream",
     "text": [
      "callback data is  turtlesim.msg.Pose(x=5.544444561004639, y=5.544444561004639, theta=0.0, linear_velocity=0.0, angular_velocity=0.0)\n"
     ]
    }
   ],
   "source": [
    "rp.spin_once(test_node)"
   ]
  },
  {
   "cell_type": "code",
   "execution_count": null,
   "id": "8f3b75e5-beb0-4108-afa0-5b5f46390613",
   "metadata": {},
   "outputs": [],
   "source": []
  }
 ],
 "metadata": {
  "kernelspec": {
   "display_name": "Python 3 (ipykernel)",
   "language": "python",
   "name": "python3"
  },
  "language_info": {
   "codemirror_mode": {
    "name": "ipython",
    "version": 3
   },
   "file_extension": ".py",
   "mimetype": "text/x-python",
   "name": "python",
   "nbconvert_exporter": "python",
   "pygments_lexer": "ipython3",
   "version": "3.10.12"
  }
 },
 "nbformat": 4,
 "nbformat_minor": 5
}
