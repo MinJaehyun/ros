{
 "cells": [
  {
   "cell_type": "code",
   "execution_count": 1,
   "id": "472a7af6-ab45-4839-a0ae-b2644c5c50d7",
   "metadata": {},
   "outputs": [],
   "source": [
    "import rclpy as rp"
   ]
  },
  {
   "cell_type": "code",
   "execution_count": 2,
   "id": "5711220a-5beb-4859-b045-70261e7055e6",
   "metadata": {},
   "outputs": [],
   "source": [
    "from turtlesim.srv import TeleportAbsolute"
   ]
  },
  {
   "cell_type": "code",
   "execution_count": 3,
   "id": "882b0ead-b14f-4fc9-96f9-6123941b5911",
   "metadata": {},
   "outputs": [],
   "source": [
    "rp.init()"
   ]
  },
  {
   "cell_type": "code",
   "execution_count": 4,
   "id": "75babfcf-85cb-4e1d-968a-d7b1c12c6b71",
   "metadata": {},
   "outputs": [],
   "source": [
    "test_node = rp.create_node('service_client')"
   ]
  },
  {
   "cell_type": "code",
   "execution_count": 5,
   "id": "555b522b-3a97-4731-809e-624146cf245c",
   "metadata": {},
   "outputs": [],
   "source": [
    "cli = test_node.create_client(TeleportAbsolute, '/turtle1/teleport_absolute')"
   ]
  },
  {
   "cell_type": "code",
   "execution_count": 6,
   "id": "70c8857c-5118-43aa-9207-0da18ba3fb90",
   "metadata": {},
   "outputs": [
    {
     "data": {
      "text/plain": [
       "turtlesim.srv.TeleportAbsolute_Request(x=0.0, y=0.0, theta=0.0)"
      ]
     },
     "execution_count": 6,
     "metadata": {},
     "output_type": "execute_result"
    }
   ],
   "source": [
    "req = TeleportAbsolute.Request()\n",
    "req"
   ]
  },
  {
   "cell_type": "code",
   "execution_count": 7,
   "id": "5cf1a5c6-5872-4f36-bd6a-47bec2cdc1fe",
   "metadata": {},
   "outputs": [],
   "source": [
    "req.x = 2.0\n",
    "req.y = 2.0\n",
    "req.theta = 3.14"
   ]
  },
  {
   "cell_type": "code",
   "execution_count": 8,
   "id": "c2a95404-ff86-41d7-bf85-61e79c32c18b",
   "metadata": {},
   "outputs": [],
   "source": [
    "while not cli.wait_for_service(timeout_sec=3.0):\n",
    "    print('waiting for service')"
   ]
  },
  {
   "cell_type": "code",
   "execution_count": 9,
   "id": "af7ef437-993f-47ae-9d0c-869d9c06dbf4",
   "metadata": {},
   "outputs": [
    {
     "data": {
      "text/plain": [
       "<rclpy.task.Future at 0x7f45b8977490>"
      ]
     },
     "execution_count": 9,
     "metadata": {},
     "output_type": "execute_result"
    }
   ],
   "source": [
    "cli.call_async(req)"
   ]
  },
  {
   "cell_type": "code",
   "execution_count": null,
   "id": "319fb5d3-a962-4dc5-a05b-7ed95c94140b",
   "metadata": {},
   "outputs": [],
   "source": [
    "rp.spin(test_node)"
   ]
  },
  {
   "cell_type": "code",
   "execution_count": null,
   "id": "188bb1e6-78e5-4af6-9920-e5a7756f0222",
   "metadata": {},
   "outputs": [],
   "source": []
  }
 ],
 "metadata": {
  "kernelspec": {
   "display_name": "Python 3 (ipykernel)",
   "language": "python",
   "name": "python3"
  },
  "language_info": {
   "codemirror_mode": {
    "name": "ipython",
    "version": 3
   },
   "file_extension": ".py",
   "mimetype": "text/x-python",
   "name": "python",
   "nbconvert_exporter": "python",
   "pygments_lexer": "ipython3",
   "version": "3.10.12"
  }
 },
 "nbformat": 4,
 "nbformat_minor": 5
}
