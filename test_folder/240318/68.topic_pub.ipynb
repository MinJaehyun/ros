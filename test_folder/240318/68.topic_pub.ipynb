{
 "cells": [
  {
   "cell_type": "code",
   "execution_count": 1,
   "id": "daef82ef-cc6d-4bd7-b907-dc2f51084fc9",
   "metadata": {},
   "outputs": [],
   "source": [
    "import rclpy as rp\n",
    "from geometry_msgs.msg import Twist"
   ]
  },
  {
   "cell_type": "code",
   "execution_count": 2,
   "id": "1cac9a31-0d23-4b4f-865a-cf0b9ae25123",
   "metadata": {},
   "outputs": [],
   "source": [
    "rp.init()"
   ]
  },
  {
   "cell_type": "code",
   "execution_count": 3,
   "id": "a1dd12ef-8b40-4df5-8b11-8490987cc106",
   "metadata": {},
   "outputs": [],
   "source": [
    "test_node = rp.create_node('pub_test')"
   ]
  },
  {
   "cell_type": "markdown",
   "id": "3dbca27a-6484-4f7e-a7f6-fcdfe7376ae7",
   "metadata": {},
   "source": [
    "```\n",
    "1. pub_test Node를 turtle1이 구독하도록 발행한다\n",
    "2. 거북이가 한 번 위로 원을 그리도록 설정한다\n",
    "```"
   ]
  },
  {
   "cell_type": "code",
   "execution_count": 4,
   "id": "8b40ce26-136b-43dc-8e06-6261d8481a6c",
   "metadata": {},
   "outputs": [],
   "source": [
    "pub = test_node.create_publisher(Twist, '/turtle1/cmd_vel', 10)"
   ]
  },
  {
   "cell_type": "code",
   "execution_count": 5,
   "id": "433a091f-1e69-4ff1-8774-786716b2199f",
   "metadata": {},
   "outputs": [],
   "source": [
    "msg = Twist()"
   ]
  },
  {
   "cell_type": "code",
   "execution_count": 6,
   "id": "62f3300f-31b0-4c62-bc62-1929c872d123",
   "metadata": {},
   "outputs": [
    {
     "data": {
      "text/plain": [
       "geometry_msgs.msg.Twist(linear=geometry_msgs.msg.Vector3(x=0.0, y=0.0, z=0.0), angular=geometry_msgs.msg.Vector3(x=0.0, y=0.0, z=0.0))"
      ]
     },
     "execution_count": 6,
     "metadata": {},
     "output_type": "execute_result"
    }
   ],
   "source": [
    "msg"
   ]
  },
  {
   "cell_type": "code",
   "execution_count": 7,
   "id": "83978895-b10b-42cc-a112-60622339be19",
   "metadata": {},
   "outputs": [],
   "source": [
    "msg.linear.x = 3.0\n",
    "msg.angular.z = 1.5"
   ]
  },
  {
   "cell_type": "code",
   "execution_count": 8,
   "id": "d36daab0-28e2-4a15-98d9-8f930077d3db",
   "metadata": {},
   "outputs": [],
   "source": [
    "pub.publish(msg)"
   ]
  },
  {
   "cell_type": "code",
   "execution_count": null,
   "id": "914aa2aa-24a7-48b5-91a9-3d482109a3fd",
   "metadata": {},
   "outputs": [],
   "source": []
  }
 ],
 "metadata": {
  "kernelspec": {
   "display_name": "Python 3 (ipykernel)",
   "language": "python",
   "name": "python3"
  },
  "language_info": {
   "codemirror_mode": {
    "name": "ipython",
    "version": 3
   },
   "file_extension": ".py",
   "mimetype": "text/x-python",
   "name": "python",
   "nbconvert_exporter": "python",
   "pygments_lexer": "ipython3",
   "version": "3.10.12"
  }
 },
 "nbformat": 4,
 "nbformat_minor": 5
}
