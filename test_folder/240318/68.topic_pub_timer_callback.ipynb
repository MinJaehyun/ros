{
 "cells": [
  {
   "cell_type": "markdown",
   "id": "b913be96-c45e-443a-a5f9-b68882a9180c",
   "metadata": {},
   "source": [
    "### 240402"
   ]
  },
  {
   "cell_type": "markdown",
   "id": "8d0e23d9-3f45-48b2-bbd2-25de49e286ce",
   "metadata": {},
   "source": [
    "### cmd_vel 토픽을 pub_test Node에서 발행하고 turtlesim에서 구독하시오\n",
    "### 이때, x 속도는 2.0 , z 각도는 1.5로 움직이시오\n",
    "### 그리고 cmd_vel 모든 속성을 3번 출력하시오"
   ]
  },
  {
   "cell_type": "code",
   "execution_count": 3,
   "id": "88cf9c5c-2193-45da-a173-edba0b3a7b45",
   "metadata": {},
   "outputs": [],
   "source": [
    "# node list를 살펴보면 cmd_vel는 publisher 와 subscriber 둘 다 존재한다"
   ]
  },
  {
   "cell_type": "code",
   "execution_count": 1,
   "id": "db1eac41-55ea-44c2-8b4a-2fe6b218082c",
   "metadata": {},
   "outputs": [],
   "source": [
    "import rclpy as rp"
   ]
  },
  {
   "cell_type": "code",
   "execution_count": 2,
   "id": "4d29c725-a2b8-419e-8548-17cb7fcfb027",
   "metadata": {},
   "outputs": [],
   "source": [
    "from geometry_msgs.msg import Twist"
   ]
  },
  {
   "cell_type": "code",
   "execution_count": 3,
   "id": "ef4da504-641b-4771-abc8-1bd4c710cc5f",
   "metadata": {},
   "outputs": [],
   "source": [
    "rp.init()"
   ]
  },
  {
   "cell_type": "code",
   "execution_count": 4,
   "id": "9581e665-8a20-4994-8686-d50a6219e6a7",
   "metadata": {},
   "outputs": [],
   "source": [
    "test_node = rp.create_node('pub_test')"
   ]
  },
  {
   "cell_type": "code",
   "execution_count": 5,
   "id": "ccd059c6-484c-4c36-91fb-c40d6303fb03",
   "metadata": {},
   "outputs": [],
   "source": [
    "pub = test_node.create_publisher(Twist, '/turtle1/cmd_vel', 10)"
   ]
  },
  {
   "cell_type": "code",
   "execution_count": 6,
   "id": "1d335192-b8eb-4e3c-939d-44c3112d0ae3",
   "metadata": {},
   "outputs": [],
   "source": [
    "msg = Twist()"
   ]
  },
  {
   "cell_type": "code",
   "execution_count": 7,
   "id": "881ef263-4c3c-4b52-8548-47066bb1634a",
   "metadata": {},
   "outputs": [],
   "source": [
    "msg.linear.x = 2.0\n",
    "msg.angular.z = 1.5"
   ]
  },
  {
   "cell_type": "code",
   "execution_count": 8,
   "id": "b857c601-fc11-4c36-911c-3c97ecf5cd22",
   "metadata": {},
   "outputs": [],
   "source": [
    "cnt = 0\n",
    "def timer_callback():\n",
    "    global cnt\n",
    "    cnt += 1\n",
    "    pub.publish(msg)\n",
    "    if cnt > 3:\n",
    "        raise Exception(\"publish stop!\")"
   ]
  },
  {
   "cell_type": "code",
   "execution_count": 9,
   "id": "f1cad59b-f95e-4c56-bd9e-68063b123300",
   "metadata": {},
   "outputs": [
    {
     "data": {
      "text/plain": [
       "<rclpy.timer.Timer at 0x7feb4c33b760>"
      ]
     },
     "execution_count": 9,
     "metadata": {},
     "output_type": "execute_result"
    }
   ],
   "source": [
    "test_node.create_timer(1.0, timer_callback)"
   ]
  },
  {
   "cell_type": "code",
   "execution_count": 10,
   "id": "9bfa1664-ac5c-415a-b82e-11ab95c8791f",
   "metadata": {},
   "outputs": [
    {
     "ename": "Exception",
     "evalue": "publish stop!",
     "output_type": "error",
     "traceback": [
      "\u001b[0;31m---------------------------------------------------------------------------\u001b[0m",
      "\u001b[0;31mException\u001b[0m                                 Traceback (most recent call last)",
      "Cell \u001b[0;32mIn[10], line 1\u001b[0m\n\u001b[0;32m----> 1\u001b[0m \u001b[43mrp\u001b[49m\u001b[38;5;241;43m.\u001b[39;49m\u001b[43mspin\u001b[49m\u001b[43m(\u001b[49m\u001b[43mtest_node\u001b[49m\u001b[43m)\u001b[49m\n",
      "File \u001b[0;32m/opt/ros/humble/local/lib/python3.10/dist-packages/rclpy/__init__.py:222\u001b[0m, in \u001b[0;36mspin\u001b[0;34m(node, executor)\u001b[0m\n\u001b[1;32m    220\u001b[0m     executor\u001b[38;5;241m.\u001b[39madd_node(node)\n\u001b[1;32m    221\u001b[0m     \u001b[38;5;28;01mwhile\u001b[39;00m executor\u001b[38;5;241m.\u001b[39mcontext\u001b[38;5;241m.\u001b[39mok():\n\u001b[0;32m--> 222\u001b[0m         \u001b[43mexecutor\u001b[49m\u001b[38;5;241;43m.\u001b[39;49m\u001b[43mspin_once\u001b[49m\u001b[43m(\u001b[49m\u001b[43m)\u001b[49m\n\u001b[1;32m    223\u001b[0m \u001b[38;5;28;01mfinally\u001b[39;00m:\n\u001b[1;32m    224\u001b[0m     executor\u001b[38;5;241m.\u001b[39mremove_node(node)\n",
      "File \u001b[0;32m/opt/ros/humble/local/lib/python3.10/dist-packages/rclpy/executors.py:739\u001b[0m, in \u001b[0;36mSingleThreadedExecutor.spin_once\u001b[0;34m(self, timeout_sec)\u001b[0m\n\u001b[1;32m    738\u001b[0m \u001b[38;5;28;01mdef\u001b[39;00m \u001b[38;5;21mspin_once\u001b[39m(\u001b[38;5;28mself\u001b[39m, timeout_sec: \u001b[38;5;28mfloat\u001b[39m \u001b[38;5;241m=\u001b[39m \u001b[38;5;28;01mNone\u001b[39;00m) \u001b[38;5;241m-\u001b[39m\u001b[38;5;241m>\u001b[39m \u001b[38;5;28;01mNone\u001b[39;00m:\n\u001b[0;32m--> 739\u001b[0m     \u001b[38;5;28;43mself\u001b[39;49m\u001b[38;5;241;43m.\u001b[39;49m\u001b[43m_spin_once_impl\u001b[49m\u001b[43m(\u001b[49m\u001b[43mtimeout_sec\u001b[49m\u001b[43m)\u001b[49m\n",
      "File \u001b[0;32m/opt/ros/humble/local/lib/python3.10/dist-packages/rclpy/executors.py:736\u001b[0m, in \u001b[0;36mSingleThreadedExecutor._spin_once_impl\u001b[0;34m(self, timeout_sec)\u001b[0m\n\u001b[1;32m    734\u001b[0m handler()\n\u001b[1;32m    735\u001b[0m \u001b[38;5;28;01mif\u001b[39;00m handler\u001b[38;5;241m.\u001b[39mexception() \u001b[38;5;129;01mis\u001b[39;00m \u001b[38;5;129;01mnot\u001b[39;00m \u001b[38;5;28;01mNone\u001b[39;00m:\n\u001b[0;32m--> 736\u001b[0m     \u001b[38;5;28;01mraise\u001b[39;00m handler\u001b[38;5;241m.\u001b[39mexception()\n",
      "File \u001b[0;32m/opt/ros/humble/local/lib/python3.10/dist-packages/rclpy/task.py:239\u001b[0m, in \u001b[0;36mTask.__call__\u001b[0;34m(self)\u001b[0m\n\u001b[1;32m    236\u001b[0m \u001b[38;5;28;01mif\u001b[39;00m inspect\u001b[38;5;241m.\u001b[39miscoroutine(\u001b[38;5;28mself\u001b[39m\u001b[38;5;241m.\u001b[39m_handler):\n\u001b[1;32m    237\u001b[0m     \u001b[38;5;66;03m# Execute a coroutine\u001b[39;00m\n\u001b[1;32m    238\u001b[0m     \u001b[38;5;28;01mtry\u001b[39;00m:\n\u001b[0;32m--> 239\u001b[0m         \u001b[38;5;28;43mself\u001b[39;49m\u001b[38;5;241;43m.\u001b[39;49m\u001b[43m_handler\u001b[49m\u001b[38;5;241;43m.\u001b[39;49m\u001b[43msend\u001b[49m\u001b[43m(\u001b[49m\u001b[38;5;28;43;01mNone\u001b[39;49;00m\u001b[43m)\u001b[49m\n\u001b[1;32m    240\u001b[0m     \u001b[38;5;28;01mexcept\u001b[39;00m \u001b[38;5;167;01mStopIteration\u001b[39;00m \u001b[38;5;28;01mas\u001b[39;00m e:\n\u001b[1;32m    241\u001b[0m         \u001b[38;5;66;03m# The coroutine finished; store the result\u001b[39;00m\n\u001b[1;32m    242\u001b[0m         \u001b[38;5;28mself\u001b[39m\u001b[38;5;241m.\u001b[39m_handler\u001b[38;5;241m.\u001b[39mclose()\n",
      "File \u001b[0;32m/opt/ros/humble/local/lib/python3.10/dist-packages/rclpy/executors.py:437\u001b[0m, in \u001b[0;36mExecutor._make_handler.<locals>.handler\u001b[0;34m(entity, gc, is_shutdown, work_tracker)\u001b[0m\n\u001b[1;32m    434\u001b[0m gc\u001b[38;5;241m.\u001b[39mtrigger()\n\u001b[1;32m    436\u001b[0m \u001b[38;5;28;01mtry\u001b[39;00m:\n\u001b[0;32m--> 437\u001b[0m     \u001b[38;5;28;01mawait\u001b[39;00m call_coroutine(entity, arg)\n\u001b[1;32m    438\u001b[0m \u001b[38;5;28;01mfinally\u001b[39;00m:\n\u001b[1;32m    439\u001b[0m     entity\u001b[38;5;241m.\u001b[39mcallback_group\u001b[38;5;241m.\u001b[39mending_execution(entity)\n",
      "File \u001b[0;32m/opt/ros/humble/local/lib/python3.10/dist-packages/rclpy/executors.py:351\u001b[0m, in \u001b[0;36mExecutor._execute_timer\u001b[0;34m(self, tmr, _)\u001b[0m\n\u001b[1;32m    350\u001b[0m \u001b[38;5;28;01masync\u001b[39;00m \u001b[38;5;28;01mdef\u001b[39;00m \u001b[38;5;21m_execute_timer\u001b[39m(\u001b[38;5;28mself\u001b[39m, tmr, _):\n\u001b[0;32m--> 351\u001b[0m     \u001b[38;5;28;01mawait\u001b[39;00m await_or_execute(tmr\u001b[38;5;241m.\u001b[39mcallback)\n",
      "File \u001b[0;32m/opt/ros/humble/local/lib/python3.10/dist-packages/rclpy/executors.py:107\u001b[0m, in \u001b[0;36mawait_or_execute\u001b[0;34m(callback, *args)\u001b[0m\n\u001b[1;32m    104\u001b[0m     \u001b[38;5;28;01mreturn\u001b[39;00m \u001b[38;5;28;01mawait\u001b[39;00m callback(\u001b[38;5;241m*\u001b[39margs)\n\u001b[1;32m    105\u001b[0m \u001b[38;5;28;01melse\u001b[39;00m:\n\u001b[1;32m    106\u001b[0m     \u001b[38;5;66;03m# Call a normal function\u001b[39;00m\n\u001b[0;32m--> 107\u001b[0m     \u001b[38;5;28;01mreturn\u001b[39;00m \u001b[43mcallback\u001b[49m\u001b[43m(\u001b[49m\u001b[38;5;241;43m*\u001b[39;49m\u001b[43margs\u001b[49m\u001b[43m)\u001b[49m\n",
      "Cell \u001b[0;32mIn[8], line 7\u001b[0m, in \u001b[0;36mtimer_callback\u001b[0;34m()\u001b[0m\n\u001b[1;32m      5\u001b[0m pub\u001b[38;5;241m.\u001b[39mpublish(msg)\n\u001b[1;32m      6\u001b[0m \u001b[38;5;28;01mif\u001b[39;00m cnt \u001b[38;5;241m>\u001b[39m \u001b[38;5;241m3\u001b[39m:\n\u001b[0;32m----> 7\u001b[0m     \u001b[38;5;28;01mraise\u001b[39;00m \u001b[38;5;167;01mException\u001b[39;00m(\u001b[38;5;124m\"\u001b[39m\u001b[38;5;124mpublish stop!\u001b[39m\u001b[38;5;124m\"\u001b[39m)\n",
      "\u001b[0;31mException\u001b[0m: publish stop!"
     ]
    }
   ],
   "source": [
    "rp.spin(test_node)"
   ]
  },
  {
   "cell_type": "code",
   "execution_count": null,
   "id": "a601b7f1-61ba-45d9-b796-1b9c9d9fbb66",
   "metadata": {},
   "outputs": [],
   "source": []
  }
 ],
 "metadata": {
  "kernelspec": {
   "display_name": "Python 3 (ipykernel)",
   "language": "python",
   "name": "python3"
  },
  "language_info": {
   "codemirror_mode": {
    "name": "ipython",
    "version": 3
   },
   "file_extension": ".py",
   "mimetype": "text/x-python",
   "name": "python",
   "nbconvert_exporter": "python",
   "pygments_lexer": "ipython3",
   "version": "3.10.12"
  }
 },
 "nbformat": 4,
 "nbformat_minor": 5
}
