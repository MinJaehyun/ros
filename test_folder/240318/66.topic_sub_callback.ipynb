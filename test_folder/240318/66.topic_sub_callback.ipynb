{
 "cells": [
  {
   "cell_type": "markdown",
   "id": "4eba19dc-d23d-4940-aae3-77eb141a90a9",
   "metadata": {},
   "source": [
    "### 240402"
   ]
  },
  {
   "cell_type": "markdown",
   "id": "bf2be508-3845-4820-b205-2b150f1bdc93",
   "metadata": {},
   "source": [
    "### pose 토픽을 turtlesim Node에서 발행하고 sub_test Node에서 구독하시오 \n",
    "### 이때, 토픽의 x, y 좌표를 3번 출력하시오"
   ]
  },
  {
   "cell_type": "code",
   "execution_count": 1,
   "id": "26eef9e9-8c7b-4df4-92c1-9a3c45ed8b7c",
   "metadata": {},
   "outputs": [],
   "source": [
    "import rclpy as rp\n",
    "from turtlesim.msg import Pose"
   ]
  },
  {
   "cell_type": "code",
   "execution_count": 2,
   "id": "2ad7f777-aed8-4b96-9318-2af50a1bcb43",
   "metadata": {},
   "outputs": [],
   "source": [
    "rp.init()"
   ]
  },
  {
   "cell_type": "code",
   "execution_count": 3,
   "id": "2230d07a-8e71-48c9-a1d1-42e8f5d9bbb8",
   "metadata": {},
   "outputs": [],
   "source": [
    "test_node = rp.create_node('sub_test')"
   ]
  },
  {
   "cell_type": "code",
   "execution_count": 4,
   "id": "bc9d4b89-aa8b-4ae3-9819-e0b37673eec1",
   "metadata": {},
   "outputs": [],
   "source": [
    "cnt = 0;\n",
    "def callback(data):\n",
    "    global cnt\n",
    "    print('---->')\n",
    "    print('x is: ', data.x, 'y is: ', data.y)\n",
    "\n",
    "    cnt += 1\n",
    "    if cnt > 3:\n",
    "        raise Exception(\"Subscription Stop!\")"
   ]
  },
  {
   "cell_type": "code",
   "execution_count": 5,
   "id": "8ae3b8de-93eb-4289-b5f4-ab140312daac",
   "metadata": {},
   "outputs": [
    {
     "data": {
      "text/plain": [
       "<rclpy.subscription.Subscription at 0x7fb0382442b0>"
      ]
     },
     "execution_count": 5,
     "metadata": {},
     "output_type": "execute_result"
    }
   ],
   "source": [
    "test_node.create_subscription(Pose, '/turtle1/pose', callback, 10)"
   ]
  },
  {
   "cell_type": "code",
   "execution_count": 6,
   "id": "e4be5f34-5b49-4636-a63e-365ec4e73121",
   "metadata": {},
   "outputs": [],
   "source": [
    "# rp.spin_once(test_node)"
   ]
  },
  {
   "cell_type": "code",
   "execution_count": 7,
   "id": "1f46e1b9-b147-4e18-ae14-fef09af98c47",
   "metadata": {
    "scrolled": true
   },
   "outputs": [],
   "source": [
    "# rp.spin(test_node)"
   ]
  },
  {
   "cell_type": "code",
   "execution_count": 8,
   "id": "6dad9f5a-0790-4f29-a708-33b2699c52b6",
   "metadata": {},
   "outputs": [],
   "source": [
    "rp.shutdown()"
   ]
  },
  {
   "cell_type": "markdown",
   "id": "a19ce513-4815-46bc-a996-a6a4f3551529",
   "metadata": {},
   "source": [
    "### 위처럼 Exception 과정 나타낸다"
   ]
  }
 ],
 "metadata": {
  "kernelspec": {
   "display_name": "Python 3 (ipykernel)",
   "language": "python",
   "name": "python3"
  },
  "language_info": {
   "codemirror_mode": {
    "name": "ipython",
    "version": 3
   },
   "file_extension": ".py",
   "mimetype": "text/x-python",
   "name": "python",
   "nbconvert_exporter": "python",
   "pygments_lexer": "ipython3",
   "version": "3.10.12"
  }
 },
 "nbformat": 4,
 "nbformat_minor": 5
}
