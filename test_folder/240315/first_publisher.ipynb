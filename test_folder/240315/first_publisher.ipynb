{
 "cells": [
  {
   "cell_type": "code",
   "execution_count": 1,
   "id": "778ee7c4-1b29-445b-8bdb-3e5a25847b77",
   "metadata": {},
   "outputs": [],
   "source": [
    "import rclpy as rp\n",
    "from turtlesim.msg import Pose"
   ]
  },
  {
   "cell_type": "code",
   "execution_count": 2,
   "id": "2a8c3e5d-c96a-40bd-acd3-3f59ff3d54fc",
   "metadata": {},
   "outputs": [],
   "source": [
    "rp.init()"
   ]
  },
  {
   "cell_type": "code",
   "execution_count": 3,
   "id": "0b0b45d4-88b3-493b-b84c-8a0b9f10bcfd",
   "metadata": {},
   "outputs": [],
   "source": [
    "test_node = rp.create_node('sub_node')"
   ]
  },
  {
   "cell_type": "code",
   "execution_count": 4,
   "id": "405e8b53-e657-4b71-aa8c-6be648bf5b2f",
   "metadata": {},
   "outputs": [
    {
     "data": {
      "text/plain": [
       "<rclpy.node.Node at 0x7ff6784f95a0>"
      ]
     },
     "execution_count": 4,
     "metadata": {},
     "output_type": "execute_result"
    }
   ],
   "source": [
    "test_node"
   ]
  },
  {
   "cell_type": "code",
   "execution_count": 5,
   "id": "f160a416-f4fa-4ffe-a2fd-0125a624db90",
   "metadata": {},
   "outputs": [],
   "source": [
    "def callback(data):\n",
    "    print('callback data is ', data)"
   ]
  },
  {
   "cell_type": "code",
   "execution_count": 6,
   "id": "c15f9150-849a-4eb2-b813-f8f0639d1c41",
   "metadata": {},
   "outputs": [
    {
     "data": {
      "text/plain": [
       "<rclpy.subscription.Subscription at 0x7ff678553850>"
      ]
     },
     "execution_count": 6,
     "metadata": {},
     "output_type": "execute_result"
    }
   ],
   "source": [
    "test_node.create_subscription(Pose, '/turtle1/pose', callback, 10)"
   ]
  },
  {
   "cell_type": "code",
   "execution_count": 7,
   "id": "799555dc-08c3-48d6-9729-8511638c5c3e",
   "metadata": {},
   "outputs": [
    {
     "data": {
      "text/plain": [
       "<rclpy.node.Node at 0x7ff6784f95a0>"
      ]
     },
     "execution_count": 7,
     "metadata": {},
     "output_type": "execute_result"
    }
   ],
   "source": [
    "test_node"
   ]
  },
  {
   "cell_type": "code",
   "execution_count": null,
   "id": "7d29f643-9dc9-4ed9-8d3b-2402f9930e55",
   "metadata": {},
   "outputs": [],
   "source": []
  }
 ],
 "metadata": {
  "kernelspec": {
   "display_name": "Python 3 (ipykernel)",
   "language": "python",
   "name": "python3"
  },
  "language_info": {
   "codemirror_mode": {
    "name": "ipython",
    "version": 3
   },
   "file_extension": ".py",
   "mimetype": "text/x-python",
   "name": "python",
   "nbconvert_exporter": "python",
   "pygments_lexer": "ipython3",
   "version": "3.10.12"
  }
 },
 "nbformat": 4,
 "nbformat_minor": 5
}
