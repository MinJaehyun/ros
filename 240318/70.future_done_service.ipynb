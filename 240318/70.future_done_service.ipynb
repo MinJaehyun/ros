{
 "cells": [
  {
   "cell_type": "code",
   "execution_count": 1,
   "id": "d4c035a0-919d-4c66-aa12-0fe38be9afae",
   "metadata": {},
   "outputs": [],
   "source": [
    "import rclpy as rp\n",
    "from turtlesim.srv import TeleportAbsolute"
   ]
  },
  {
   "cell_type": "code",
   "execution_count": 2,
   "id": "2a62a1dd-dfa3-4d5c-a8ad-581806f06ee3",
   "metadata": {},
   "outputs": [],
   "source": [
    "rp.init()"
   ]
  },
  {
   "cell_type": "code",
   "execution_count": 3,
   "id": "878c68a3-1447-4d42-be4a-300d31be371d",
   "metadata": {},
   "outputs": [],
   "source": [
    "test_node = rp.create_node('service_client')"
   ]
  },
  {
   "cell_type": "code",
   "execution_count": 4,
   "id": "e530be26-e016-4296-bafa-3153203b9b3f",
   "metadata": {},
   "outputs": [],
   "source": [
    "cli = test_node.create_client(TeleportAbsolute, 'turtle1/teleport_absolute')"
   ]
  },
  {
   "cell_type": "code",
   "execution_count": 5,
   "id": "be068258-07cb-4a73-97c6-6d938887f037",
   "metadata": {},
   "outputs": [],
   "source": [
    "req = TeleportAbsolute.Request()"
   ]
  },
  {
   "cell_type": "code",
   "execution_count": 6,
   "id": "7852c913-a6de-471e-a7db-f702e680ace3",
   "metadata": {},
   "outputs": [],
   "source": [
    "req.x = 2.0\n",
    "req.y = 2.0\n",
    "req.theta = 3.14"
   ]
  },
  {
   "cell_type": "code",
   "execution_count": null,
   "id": "70f4adcf-9aa6-4748-ae9e-1508908a17d9",
   "metadata": {},
   "outputs": [],
   "source": []
  },
  {
   "cell_type": "code",
   "execution_count": 8,
   "id": "5416d297-2e31-4a6d-8cd6-a3a86a49e5c5",
   "metadata": {},
   "outputs": [],
   "source": [
    "future = cli.call_async(req)"
   ]
  },
  {
   "cell_type": "code",
   "execution_count": 9,
   "id": "f96961c9-0a84-4e05-93af-54e13621cc59",
   "metadata": {},
   "outputs": [
    {
     "name": "stdout",
     "output_type": "stream",
     "text": [
      "False None\n",
      "False None\n",
      "True turtlesim.srv.TeleportAbsolute_Response()\n"
     ]
    }
   ],
   "source": [
    "while not future.done():\n",
    "    rp.spin_once(test_node)\n",
    "    print(future.done(), future.result())"
   ]
  },
  {
   "cell_type": "code",
   "execution_count": null,
   "id": "0c0d8b6a-78c9-4845-a4d9-0e077e228fca",
   "metadata": {},
   "outputs": [],
   "source": []
  }
 ],
 "metadata": {
  "kernelspec": {
   "display_name": "Python 3 (ipykernel)",
   "language": "python",
   "name": "python3"
  },
  "language_info": {
   "codemirror_mode": {
    "name": "ipython",
    "version": 3
   },
   "file_extension": ".py",
   "mimetype": "text/x-python",
   "name": "python",
   "nbconvert_exporter": "python",
   "pygments_lexer": "ipython3",
   "version": "3.10.12"
  }
 },
 "nbformat": 4,
 "nbformat_minor": 5
}
