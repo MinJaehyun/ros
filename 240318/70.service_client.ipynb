{
 "cells": [
  {
   "cell_type": "code",
   "execution_count": 1,
   "id": "e3c91b27-bbe5-45ef-a2a1-bf3e80c681dc",
   "metadata": {},
   "outputs": [],
   "source": [
    "import rclpy as rp\n",
    "from turtlesim.srv import TeleportAbsolute"
   ]
  },
  {
   "cell_type": "code",
   "execution_count": 2,
   "id": "cc28ddf1-0b94-43c6-b321-e5f6f610141b",
   "metadata": {},
   "outputs": [],
   "source": [
    "rp.init()"
   ]
  },
  {
   "cell_type": "code",
   "execution_count": 3,
   "id": "a063da5b-8c46-47db-aa94-d7010d0128ef",
   "metadata": {},
   "outputs": [],
   "source": [
    "test_node = rp.create_node('service_client')"
   ]
  },
  {
   "cell_type": "code",
   "execution_count": 4,
   "id": "36762ec0-8187-4ade-a0ee-3dfff2c3fbe0",
   "metadata": {},
   "outputs": [],
   "source": [
    "cli = test_node.create_client(TeleportAbsolute, '/turtle1/teleport_absolute')"
   ]
  },
  {
   "cell_type": "code",
   "execution_count": 5,
   "id": "e2b523d5-773e-4622-a858-b4354a83cf89",
   "metadata": {},
   "outputs": [],
   "source": [
    "req = TeleportAbsolute.Request()"
   ]
  },
  {
   "cell_type": "code",
   "execution_count": 6,
   "id": "4898bb6d-5030-4db9-8bce-86ad89d61296",
   "metadata": {},
   "outputs": [],
   "source": [
    "req.x = 2.0"
   ]
  },
  {
   "cell_type": "code",
   "execution_count": 7,
   "id": "32aad5e5-6f91-4300-8e2b-843d9f02bc54",
   "metadata": {},
   "outputs": [],
   "source": [
    "req.y = 3.0"
   ]
  },
  {
   "cell_type": "code",
   "execution_count": 8,
   "id": "69f729b0-71d8-4421-a771-c91495f46325",
   "metadata": {},
   "outputs": [],
   "source": [
    "req.theta = 1.5"
   ]
  },
  {
   "cell_type": "code",
   "execution_count": 9,
   "id": "b3a7ec51-d5d9-423c-b97f-c0f8aae76e4a",
   "metadata": {},
   "outputs": [
    {
     "data": {
      "text/plain": [
       "<rclpy.task.Future at 0x7f18c5b22890>"
      ]
     },
     "execution_count": 9,
     "metadata": {},
     "output_type": "execute_result"
    }
   ],
   "source": [
    "cli.call_async(req)"
   ]
  },
  {
   "cell_type": "code",
   "execution_count": null,
   "id": "912f756e-cb77-4690-b656-7fafe5b073f1",
   "metadata": {},
   "outputs": [],
   "source": [
    "rp.spin(test_node)"
   ]
  },
  {
   "cell_type": "code",
   "execution_count": null,
   "id": "1a302ac9-36f2-4cc1-b680-e1006b17a3dd",
   "metadata": {},
   "outputs": [],
   "source": []
  }
 ],
 "metadata": {
  "kernelspec": {
   "display_name": "Python 3 (ipykernel)",
   "language": "python",
   "name": "python3"
  },
  "language_info": {
   "codemirror_mode": {
    "name": "ipython",
    "version": 3
   },
   "file_extension": ".py",
   "mimetype": "text/x-python",
   "name": "python",
   "nbconvert_exporter": "python",
   "pygments_lexer": "ipython3",
   "version": "3.10.12"
  }
 },
 "nbformat": 4,
 "nbformat_minor": 5
}
